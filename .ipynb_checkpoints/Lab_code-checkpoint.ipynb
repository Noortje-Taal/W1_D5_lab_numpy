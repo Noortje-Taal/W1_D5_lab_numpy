{
 "cells": [
  {
   "cell_type": "code",
   "execution_count": 1,
   "metadata": {},
   "outputs": [],
   "source": [
    "#1. Import the NUMPY package under the name np.\n",
    "import numpy as np \n"
   ]
  },
  {
   "cell_type": "code",
   "execution_count": 2,
   "metadata": {},
   "outputs": [
    {
     "name": "stdout",
     "output_type": "stream",
     "text": [
      "1.16.2\n"
     ]
    }
   ],
   "source": [
    "#2. Print the NUMPY version and the configuration.\n",
    "print(np.version.version) "
   ]
  },
  {
   "cell_type": "code",
   "execution_count": 5,
   "metadata": {},
   "outputs": [],
   "source": [
    "#3. Generate a 2x3x5 3-dimensional array with random values. Assign the array to variable \"a\"\n",
    "# Challenge: there are at least three easy ways that use numpy to generate random arrays. How many ways can you find?\n",
    "a = np.random.random((2,3,5)) "
   ]
  },
  {
   "cell_type": "code",
   "execution_count": 6,
   "metadata": {},
   "outputs": [
    {
     "name": "stdout",
     "output_type": "stream",
     "text": [
      "[[[0.66665175 0.80496886 0.02536369 0.46902968 0.14398135]\n",
      "  [0.89648235 0.14928782 0.27268231 0.59742908 0.62306846]\n",
      "  [0.39834493 0.59374232 0.86180449 0.86768619 0.22619065]]\n",
      "\n",
      " [[0.68469519 0.5559137  0.83716549 0.27645783 0.91802835]\n",
      "  [0.86513575 0.24972244 0.6913091  0.58039516 0.25075115]\n",
      "  [0.66027183 0.04999159 0.23378627 0.67007101 0.50951032]]]\n"
     ]
    }
   ],
   "source": [
    "#4. Print a.\n",
    "print(a) "
   ]
  },
  {
   "cell_type": "code",
   "execution_count": 10,
   "metadata": {},
   "outputs": [],
   "source": [
    "#5. Create a 5x2x3 3-dimensional array with all values equaling 1.\n",
    "#Assign the array to variable \"b\"\n",
    "b = np.zeros((5,2,3))+1"
   ]
  },
  {
   "cell_type": "code",
   "execution_count": 11,
   "metadata": {},
   "outputs": [
    {
     "name": "stdout",
     "output_type": "stream",
     "text": [
      "[[[1. 1. 1.]\n",
      "  [1. 1. 1.]]\n",
      "\n",
      " [[1. 1. 1.]\n",
      "  [1. 1. 1.]]\n",
      "\n",
      " [[1. 1. 1.]\n",
      "  [1. 1. 1.]]\n",
      "\n",
      " [[1. 1. 1.]\n",
      "  [1. 1. 1.]]\n",
      "\n",
      " [[1. 1. 1.]\n",
      "  [1. 1. 1.]]]\n"
     ]
    }
   ],
   "source": [
    "#6. Print b.\n",
    "print(b)"
   ]
  },
  {
   "cell_type": "code",
   "execution_count": null,
   "metadata": {},
   "outputs": [],
   "source": [
    "#7. Do a and b have the same size? How do you prove that in Python code?\n",
    "''' They do not, you can reshape them '''\n"
   ]
  },
  {
   "cell_type": "code",
   "execution_count": null,
   "metadata": {},
   "outputs": [],
   "source": [
    "#8. Are you able to add a and b? Why or why not?\n",
    "'''Yes you can, by reshaping them '''\n"
   ]
  },
  {
   "cell_type": "code",
   "execution_count": 24,
   "metadata": {},
   "outputs": [
    {
     "name": "stdout",
     "output_type": "stream",
     "text": [
      "[[[1. 1. 1. 1. 1.]\n",
      "  [1. 1. 1. 1. 1.]\n",
      "  [1. 1. 1. 1. 1.]]\n",
      "\n",
      " [[1. 1. 1. 1. 1.]\n",
      "  [1. 1. 1. 1. 1.]\n",
      "  [1. 1. 1. 1. 1.]]]\n"
     ]
    }
   ],
   "source": [
    "#9. Transpose b so that it has the same structure of a (i.e. become a 2x3x5 array). \n",
    "# Assign the transposed array to varialbe \"c\".\n",
    "c = b.reshape(2,3,5)\n",
    "print(c) \n"
   ]
  },
  {
   "cell_type": "code",
   "execution_count": 25,
   "metadata": {},
   "outputs": [
    {
     "name": "stdout",
     "output_type": "stream",
     "text": [
      "[[[1.66665175 1.80496886 1.02536369 1.46902968 1.14398135]\n",
      "  [1.89648235 1.14928782 1.27268231 1.59742908 1.62306846]\n",
      "  [1.39834493 1.59374232 1.86180449 1.86768619 1.22619065]]\n",
      "\n",
      " [[1.68469519 1.5559137  1.83716549 1.27645783 1.91802835]\n",
      "  [1.86513575 1.24972244 1.6913091  1.58039516 1.25075115]\n",
      "  [1.66027183 1.04999159 1.23378627 1.67007101 1.50951032]]]\n"
     ]
    }
   ],
   "source": [
    "#10. Try to add a and c. Now it should work. Assign the sum to varialbe \"d\". But why does it work now?\n",
    "d = (a+c)\n",
    "print(d)\n",
    "\n",
    "'''It is working now because they have the same matix format now'''\n"
   ]
  },
  {
   "cell_type": "code",
   "execution_count": 26,
   "metadata": {},
   "outputs": [
    {
     "name": "stdout",
     "output_type": "stream",
     "text": [
      "[[[0.66665175 0.80496886 0.02536369 0.46902968 0.14398135]\n",
      "  [0.89648235 0.14928782 0.27268231 0.59742908 0.62306846]\n",
      "  [0.39834493 0.59374232 0.86180449 0.86768619 0.22619065]]\n",
      "\n",
      " [[0.68469519 0.5559137  0.83716549 0.27645783 0.91802835]\n",
      "  [0.86513575 0.24972244 0.6913091  0.58039516 0.25075115]\n",
      "  [0.66027183 0.04999159 0.23378627 0.67007101 0.50951032]]]\n",
      "[[[1.66665175 1.80496886 1.02536369 1.46902968 1.14398135]\n",
      "  [1.89648235 1.14928782 1.27268231 1.59742908 1.62306846]\n",
      "  [1.39834493 1.59374232 1.86180449 1.86768619 1.22619065]]\n",
      "\n",
      " [[1.68469519 1.5559137  1.83716549 1.27645783 1.91802835]\n",
      "  [1.86513575 1.24972244 1.6913091  1.58039516 1.25075115]\n",
      "  [1.66027183 1.04999159 1.23378627 1.67007101 1.50951032]]]\n"
     ]
    }
   ],
   "source": [
    "#11. Print a and d. Notice the difference and relation of the two array in terms of the values? Explain.\n",
    "print(a)\n",
    "print(d)\n",
    "\n",
    "'''The difference is that all elements in d are the elements in a + 1.\n",
    "This is logic because in matrix b/c there where only elements with the number 1'''\n"
   ]
  },
  {
   "cell_type": "code",
   "execution_count": 27,
   "metadata": {},
   "outputs": [
    {
     "name": "stdout",
     "output_type": "stream",
     "text": [
      "[[[0.66665175 0.80496886 0.02536369 0.46902968 0.14398135]\n",
      "  [0.89648235 0.14928782 0.27268231 0.59742908 0.62306846]\n",
      "  [0.39834493 0.59374232 0.86180449 0.86768619 0.22619065]]\n",
      "\n",
      " [[0.68469519 0.5559137  0.83716549 0.27645783 0.91802835]\n",
      "  [0.86513575 0.24972244 0.6913091  0.58039516 0.25075115]\n",
      "  [0.66027183 0.04999159 0.23378627 0.67007101 0.50951032]]]\n"
     ]
    }
   ],
   "source": [
    "#12. Multiply a and c. Assign the result to e.\n",
    "e = (a*c)\n",
    "print(e)\n"
   ]
  },
  {
   "cell_type": "code",
   "execution_count": 28,
   "metadata": {},
   "outputs": [
    {
     "name": "stdout",
     "output_type": "stream",
     "text": [
      "[[[ True  True  True  True  True]\n",
      "  [ True  True  True  True  True]\n",
      "  [ True  True  True  True  True]]\n",
      "\n",
      " [[ True  True  True  True  True]\n",
      "  [ True  True  True  True  True]\n",
      "  [ True  True  True  True  True]]]\n"
     ]
    }
   ],
   "source": [
    "#13. Does e equal to a? Why or why not?\n",
    "print(e == a) \n",
    "\n",
    "'''They are the same because you are multipying with 1'''\n"
   ]
  },
  {
   "cell_type": "code",
   "execution_count": 30,
   "metadata": {},
   "outputs": [
    {
     "name": "stdout",
     "output_type": "stream",
     "text": [
      "1.918028350484863\n",
      "1.025363693281284\n",
      "1.5209973031202197\n"
     ]
    }
   ],
   "source": [
    "#14. Identify the max, min, and mean values in d. Assign those values to variables \"d_max\", \"d_min\", and \"d_mean\"\n",
    "d_max = np.max(d)\n",
    "d_min = np.min(d)\n",
    "d_mean = np.mean(d) \n",
    "\n",
    "print(d_max)\n",
    "print(d_min) \n",
    "print(d_mean)\n"
   ]
  },
  {
   "cell_type": "code",
   "execution_count": 63,
   "metadata": {},
   "outputs": [],
   "source": [
    "#15. Now we want to label the values in d. \n",
    "# First create an empty array \"f\" with the same shape (i.e. 2x3x5) as d using `np.empty`.\n",
    "f = np.empty((2,3,5)) \n"
   ]
  },
  {
   "cell_type": "code",
   "execution_count": 70,
   "metadata": {},
   "outputs": [
    {
     "data": {
      "text/plain": [
       "'\\nfor value in f[:,:,:]: \\n    if value > d_min and value < d_mean:\\n        f.fill(25)\\n    elif value > d_mean and < d_max: \\n        f.fill(75)\\n    elif value == d_mean:\\n        f.fill(50)\\n    elif value == d_min:\\n        f.fill(0)\\n    elif value == d_max:\\n        f.fill(100)\\n'"
      ]
     },
     "execution_count": 70,
     "metadata": {},
     "output_type": "execute_result"
    }
   ],
   "source": [
    "'''\n",
    "#16. Populate the values in f. \n",
    "For each value in d, if it's larger than d_min but smaller than d_mean, assign 25 to the corresponding value in f.\n",
    "If a value in d is larger than d_mean but smaller than d_max, assign 75 to the corresponding value in f.\n",
    "If a value equals to d_mean, assign 50 to the corresponding value in f.\n",
    "Assign 0 to the corresponding value(s) in f for d_min in d.\n",
    "Assign 100 to the corresponding value(s) in f for d_max in d.\n",
    "In the end, f should have only the following values: 0, 25, 50, 75, and 100.\n",
    "Note: you don't have to use Numpy in this question.\n",
    "'''\n",
    "\n",
    "# loop trought all the indexes in the array \n",
    "    # make 3 for loop: 1 for the amount, one for the rows, one for the colomns \n",
    "        # loop trought the rows [0:3]\n",
    "        # loop trought the colomns [0:5] \n",
    "        \n",
    "'''\n",
    "for value in f[:,:,:]: \n",
    "    if value > d_min and value < d_mean:\n",
    "        f.fill(25)\n",
    "    elif value > d_mean and < d_max: \n",
    "        f.fill(75)\n",
    "    elif value == d_mean:\n",
    "        f.fill(50)\n",
    "    elif value == d_min:\n",
    "        f.fill(0)\n",
    "    elif value == d_max:\n",
    "        f.fill(100)\n",
    "'''\n"
   ]
  },
  {
   "cell_type": "code",
   "execution_count": null,
   "metadata": {},
   "outputs": [],
   "source": [
    "'''\n",
    "#17. Print d and f. Do you have your expected f?\n",
    "For instance, if your d is:\n",
    "array([[[1.85836099, 1.67064465, 1.62576044, 1.40243961, 1.88454931],\n",
    "        [1.75354326, 1.69403643, 1.36729252, 1.61415071, 1.12104981],\n",
    "        [1.72201435, 1.1862918 , 1.87078449, 1.7726778 , 1.88180042]],\n",
    "\n",
    "       [[1.44747908, 1.31673383, 1.02000951, 1.52218947, 1.97066381],\n",
    "        [1.79129243, 1.74983003, 1.96028037, 1.85166831, 1.65450881],\n",
    "        [1.18068344, 1.9587381 , 1.00656599, 1.93402165, 1.73514584]]])\n",
    "\n",
    "Your f should be:\n",
    "array([[[ 75.,  75.,  75.,  25.,  75.],\n",
    "        [ 75.,  75.,  25.,  25.,  25.],\n",
    "        [ 75.,  25.,  75.,  75.,  75.]],\n",
    "\n",
    "       [[ 25.,  25.,  25.,  25., 100.],\n",
    "        [ 75.,  75.,  75.,  75.,  75.],\n",
    "        [ 25.,  75.,   0.,  75.,  75.]]])\n",
    "\"\"\"\n"
   ]
  },
  {
   "cell_type": "code",
   "execution_count": null,
   "metadata": {},
   "outputs": [],
   "source": [
    "\"\"\"\n",
    "#18. Bonus question: instead of using numbers (i.e. 0, 25, 50, 75, and 100), how to use string values \n",
    "(\"A\", \"B\", \"C\", \"D\", and \"E\") to label the array elements? You are expecting the result to be:\n",
    "array([[[ 'D',  'D',  'D',  'B',  'D'],\n",
    "        [ 'D',  'D',  'B',  'B',  'B'],\n",
    "        [ 'D',  'B',  'D',  'D',  'D']],\n",
    "\n",
    "       [[ 'B',  'B',  'B',  'B',  'E'],\n",
    "        [ 'D',  'D',  'D',  'D',  'D'],\n",
    "        [ 'B',  'D',   'A',  'D', 'D']]])\n",
    "Again, you don't need Numpy in this question.\n",
    "\"\"\"\n"
   ]
  }
 ],
 "metadata": {
  "kernelspec": {
   "display_name": "Python 3",
   "language": "python",
   "name": "python3"
  },
  "language_info": {
   "codemirror_mode": {
    "name": "ipython",
    "version": 3
   },
   "file_extension": ".py",
   "mimetype": "text/x-python",
   "name": "python",
   "nbconvert_exporter": "python",
   "pygments_lexer": "ipython3",
   "version": "3.7.3"
  }
 },
 "nbformat": 4,
 "nbformat_minor": 2
}
